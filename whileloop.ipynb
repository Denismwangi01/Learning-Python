{
  "nbformat": 4,
  "nbformat_minor": 0,
  "metadata": {
    "colab": {
      "provenance": [],
      "authorship_tag": "ABX9TyNCqpsMi/0RKTQcd3ALS6j0",
      "include_colab_link": true
    },
    "kernelspec": {
      "name": "python3",
      "display_name": "Python 3"
    },
    "language_info": {
      "name": "python"
    }
  },
  "cells": [
    {
      "cell_type": "markdown",
      "metadata": {
        "id": "view-in-github",
        "colab_type": "text"
      },
      "source": [
        "<a href=\"https://colab.research.google.com/github/Denismwangi01/Learning-Python/blob/main/whileloop.ipynb\" target=\"_parent\"><img src=\"https://colab.research.google.com/assets/colab-badge.svg\" alt=\"Open In Colab\"/></a>"
      ]
    },
    {
      "cell_type": "markdown",
      "source": [
        "# While loop\n",
        "\n",
        "It use when you don't know the excatly number of repetions in advance.\n",
        "\n",
        "Run the process untill sucess executed.\n",
        "\n",
        "Mostly used in live data streaming."
      ],
      "metadata": {
        "id": "rUns2aODvcC8"
      }
    },
    {
      "cell_type": "markdown",
      "source": [
        "# Implentation\n",
        "\n",
        "while\n",
        "      \n",
        "      Ask: roll a dice\n",
        "      if user enters y\n",
        "          generate two random numbers\n",
        "          print them\n",
        "      if user enters n\n",
        "          print thank you message\n",
        "          terminate\n",
        "      else\n",
        "          print invalid choice\n"
      ],
      "metadata": {
        "id": "vR0n1k9xwUHG"
      }
    },
    {
      "cell_type": "code",
      "execution_count": 1,
      "metadata": {
        "colab": {
          "base_uri": "https://localhost:8080/",
          "height": 228
        },
        "collapsed": true,
        "id": "2I_F9ifPj8GZ",
        "outputId": "2337310c-61e2-43fb-a79a-c447a6f3327c"
      },
      "outputs": [
        {
          "name": "stdout",
          "output_type": "stream",
          "text": [
            "Roll the dice y/ny\n"
          ]
        },
        {
          "output_type": "error",
          "ename": "NameError",
          "evalue": "name 'y' is not defined",
          "traceback": [
            "\u001b[0;31m---------------------------------------------------------------------------\u001b[0m",
            "\u001b[0;31mNameError\u001b[0m                                 Traceback (most recent call last)",
            "\u001b[0;32m<ipython-input-1-01dcc1ae9a8d>\u001b[0m in \u001b[0;36m<cell line: 0>\u001b[0;34m()\u001b[0m\n\u001b[1;32m      1\u001b[0m \u001b[0;32mimport\u001b[0m \u001b[0mrandom\u001b[0m \u001b[0;32mas\u001b[0m \u001b[0mrm\u001b[0m\u001b[0;34m\u001b[0m\u001b[0;34m\u001b[0m\u001b[0m\n\u001b[1;32m      2\u001b[0m \u001b[0muser_input\u001b[0m \u001b[0;34m=\u001b[0m \u001b[0minput\u001b[0m\u001b[0;34m(\u001b[0m\u001b[0;34m\"Roll the dice y/n\"\u001b[0m\u001b[0;34m)\u001b[0m\u001b[0;34m\u001b[0m\u001b[0;34m\u001b[0m\u001b[0m\n\u001b[0;32m----> 3\u001b[0;31m \u001b[0;32mif\u001b[0m \u001b[0muser_input\u001b[0m \u001b[0;34m==\u001b[0m \u001b[0my\u001b[0m\u001b[0;34m:\u001b[0m\u001b[0;34m\u001b[0m\u001b[0;34m\u001b[0m\u001b[0m\n\u001b[0m\u001b[1;32m      4\u001b[0m   \u001b[0mdice\u001b[0m \u001b[0;34m=\u001b[0m \u001b[0mrandom\u001b[0m\u001b[0;34m.\u001b[0m\u001b[0mrandom\u001b[0m\u001b[0;34m(\u001b[0m\u001b[0;34m)\u001b[0m\u001b[0;34m\u001b[0m\u001b[0;34m\u001b[0m\u001b[0m\n\u001b[1;32m      5\u001b[0m   \u001b[0mprint\u001b[0m\u001b[0;34m(\u001b[0m\u001b[0mdice\u001b[0m\u001b[0;34m)\u001b[0m\u001b[0;34m\u001b[0m\u001b[0;34m\u001b[0m\u001b[0m\n",
            "\u001b[0;31mNameError\u001b[0m: name 'y' is not defined"
          ]
        }
      ],
      "source": [
        "import random\n",
        "user_input = input(\"Roll the dice y/n\").lower()\n",
        "if user_input == y:\n",
        "  dice = random.random()\n",
        "  print(dice)\n",
        "if user_input == n:\n",
        "  print(\"Thank you\")\n",
        "  break\n",
        "else:\n",
        "  print(\"invalid\")"
      ]
    },
    {
      "cell_type": "code",
      "source": [
        "import random\n",
        "while True:\n",
        "  choice= input('Roll the dice (y/n): ').lower()\n",
        "  if choice == 'y' :\n",
        "    dice1 = random.randint(1,6)\n",
        "    dice2 = random.randint(1,6)\n",
        "    print(f'{dice1},{dice2}')\n",
        "  elif choice == 'n':\n",
        "    print('Thanks for playing')\n",
        "    break\n",
        "  else:\n",
        "    print('invalid choice')"
      ],
      "metadata": {
        "colab": {
          "base_uri": "https://localhost:8080/"
        },
        "id": "RpQ99UtupDN5",
        "outputId": "1a5b971e-689d-4b16-9f39-5632f8e6e77a"
      },
      "execution_count": 4,
      "outputs": [
        {
          "output_type": "stream",
          "name": "stdout",
          "text": [
            "Roll the dice (y/n): y\n",
            "1,3\n",
            "Roll the dice (y/n): y\n",
            "3,3\n",
            "Roll the dice (y/n): y\n",
            "2,6\n",
            "Roll the dice (y/n): n\n",
            "Thanks for playing\n"
          ]
        }
      ]
    },
    {
      "cell_type": "markdown",
      "source": [
        "BEGIN\n",
        "\n",
        "    SET correct_password TO \"Kenya123\"\n",
        "    SET max_attempts TO 3\n",
        "    SET attempts TO 0\n",
        "\n",
        "    WHILE attempts < max_attempts DO\n",
        "        PROMPT user to \"Enter your password: \"\n",
        "        READ user_input\n",
        "        \n",
        "        IF user_input == correct_password THEN\n",
        "            PRINT \"Access granted. Welcome!\"\n",
        "            EXIT LOOP\n",
        "        ELSE\n",
        "            PRINT \"Incorrect password, try again.\"\n",
        "            INCREMENT attempts BY 1\n",
        "\n",
        "    END WHILE\n",
        "\n",
        "    IF attempts == max_attempts THEN\n",
        "        PRINT \"Too many incorrect attempts. Access denied.\"\n",
        "    END IF\n",
        "\n",
        "END\n",
        "\n"
      ],
      "metadata": {
        "id": "TKcKYpPXxcd9"
      }
    },
    {
      "cell_type": "code",
      "source": [
        "correct_password = 'password123'\n",
        "max_attempts = 3\n",
        "attempts = 0\n",
        "\n",
        "while attempts < max_attempts:\n",
        "  user_input = input('Enter password: ')\n",
        "\n",
        "  if user_input == correct_password:\n",
        "    print('Access granted. welcome')\n",
        "    break\n",
        "  else:\n",
        "    print(\"Incorrect password. access denied\")\n",
        "    attempts += 1\n",
        "if attempts == max_attempts:\n",
        "  print(\"Too many incorrect attempts\")"
      ],
      "metadata": {
        "colab": {
          "base_uri": "https://localhost:8080/"
        },
        "id": "vW-ARBg7xk3R",
        "outputId": "568e9284-60fa-41d4-c82c-419bc99ab78f"
      },
      "execution_count": 3,
      "outputs": [
        {
          "output_type": "stream",
          "name": "stdout",
          "text": [
            "Enter password: 12345\n",
            "Incorrect password. access denied\n",
            "Enter password: 1234\n",
            "Incorrect password. access denied\n",
            "Enter password: 6789\n",
            "Incorrect password. access denied\n",
            "Too many incorrect attempts\n"
          ]
        }
      ]
    }
  ]
}