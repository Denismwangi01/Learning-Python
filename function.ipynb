{
  "nbformat": 4,
  "nbformat_minor": 0,
  "metadata": {
    "colab": {
      "provenance": [],
      "authorship_tag": "ABX9TyOwDUGDiv3YDqMIVHCh66NY",
      "include_colab_link": true
    },
    "kernelspec": {
      "name": "python3",
      "display_name": "Python 3"
    },
    "language_info": {
      "name": "python"
    }
  },
  "cells": [
    {
      "cell_type": "markdown",
      "metadata": {
        "id": "view-in-github",
        "colab_type": "text"
      },
      "source": [
        "<a href=\"https://colab.research.google.com/github/Denismwangi01/Learning-Python/blob/main/function.ipynb\" target=\"_parent\"><img src=\"https://colab.research.google.com/assets/colab-badge.svg\" alt=\"Open In Colab\"/></a>"
      ]
    },
    {
      "cell_type": "code",
      "execution_count": 1,
      "metadata": {
        "colab": {
          "base_uri": "https://localhost:8080/"
        },
        "id": "s4BQQ-XB2lvY",
        "outputId": "f6462513-7910-42b5-8f7f-c0c275b2179c"
      },
      "outputs": [
        {
          "output_type": "stream",
          "name": "stdout",
          "text": [
            "this is a function\n"
          ]
        }
      ],
      "source": [
        "#create a function\n",
        "def greet():\n",
        "  print(\"this is a function\")\n",
        "\n",
        "#Calling a Function\n",
        "greet()"
      ]
    },
    {
      "cell_type": "code",
      "source": [
        "#function with parameters\n",
        "\n",
        "def greet_user(name):\n",
        "  print(f'heloo, {name}')\n",
        "\n",
        "greet_user('John')\n",
        "greet_user('Mary')"
      ],
      "metadata": {
        "colab": {
          "base_uri": "https://localhost:8080/"
        },
        "id": "jgaeRpbI2pA4",
        "outputId": "82feb116-0b5c-4612-d718-76cd6545b7e2"
      },
      "execution_count": 3,
      "outputs": [
        {
          "output_type": "stream",
          "name": "stdout",
          "text": [
            "heloo, John\n",
            "heloo, Mary\n"
          ]
        }
      ]
    },
    {
      "cell_type": "code",
      "source": [
        "# function multple parameters\n",
        "\n",
        "def greet_user(first_name, last_name):\n",
        "  print(f'heloo, {first_name} {last_name}')\n",
        "\n",
        "greet_user('John', 'Smith')\n",
        "greet_user('Mary', 'Johnson')"
      ],
      "metadata": {
        "colab": {
          "base_uri": "https://localhost:8080/"
        },
        "id": "CZyqHXvK3cFH",
        "outputId": "3a9b2770-d9ce-4724-9c84-8e2dbdc2c146"
      },
      "execution_count": 4,
      "outputs": [
        {
          "output_type": "stream",
          "name": "stdout",
          "text": [
            "heloo, John Smith\n",
            "heloo, Mary Johnson\n"
          ]
        }
      ]
    },
    {
      "cell_type": "code",
      "source": [
        "def add_numbers(a,b):\n",
        "  sum = a+b\n",
        "  print(sum)\n",
        "\n",
        "add_numbers(10,20)"
      ],
      "metadata": {
        "colab": {
          "base_uri": "https://localhost:8080/"
        },
        "id": "ga8YDArI3qCD",
        "outputId": "701a45fc-4789-480c-870f-5784b26bf96f"
      },
      "execution_count": 5,
      "outputs": [
        {
          "output_type": "stream",
          "name": "stdout",
          "text": [
            "30\n"
          ]
        }
      ]
    },
    {
      "cell_type": "code",
      "source": [
        "#function with returning values\n",
        "\n",
        "def multiply(num1, num2):\n",
        "  return num1 * num2\n",
        "\n",
        "result = multiply(4,3)\n",
        "print(result)"
      ],
      "metadata": {
        "colab": {
          "base_uri": "https://localhost:8080/"
        },
        "id": "ci0NIS4z338O",
        "outputId": "394eaa65-ae1f-4205-f168-1b37488b3410"
      },
      "execution_count": 6,
      "outputs": [
        {
          "output_type": "stream",
          "name": "stdout",
          "text": [
            "12\n"
          ]
        }
      ]
    },
    {
      "cell_type": "code",
      "source": [
        "# Default parameter values\n",
        "\n",
        "def greet(name = 'Guest'):\n",
        "  print(f'Hello, {name}')\n",
        "\n",
        "greet()\n",
        "greet('John')"
      ],
      "metadata": {
        "colab": {
          "base_uri": "https://localhost:8080/"
        },
        "id": "mHN5YdW14dfR",
        "outputId": "8570a793-58e2-4322-c2f3-257eedeed043"
      },
      "execution_count": 7,
      "outputs": [
        {
          "output_type": "stream",
          "name": "stdout",
          "text": [
            "Hello, Guest\n",
            "Hello, John\n"
          ]
        }
      ]
    },
    {
      "cell_type": "code",
      "source": [
        "# function with loops\n",
        "\n",
        "def print_numbers(n):\n",
        "  for i in range(1,n + 1):\n",
        "    print(i)\n",
        "\n",
        "print_numbers(6)"
      ],
      "metadata": {
        "colab": {
          "base_uri": "https://localhost:8080/"
        },
        "id": "FxhIcxaW4zFs",
        "outputId": "d0b692df-3aac-4fc8-9f55-915f2a1b7a36"
      },
      "execution_count": 8,
      "outputs": [
        {
          "output_type": "stream",
          "name": "stdout",
          "text": [
            "1\n",
            "2\n",
            "3\n",
            "4\n",
            "5\n",
            "6\n"
          ]
        }
      ]
    },
    {
      "cell_type": "markdown",
      "source": [
        "**# Practice Task**\n",
        "\n",
        "\n",
        "Write a function called calculate_area that takes length and width as parameters and returns the area of a rectangle."
      ],
      "metadata": {
        "id": "mbIbx5jT5Pqx"
      }
    },
    {
      "cell_type": "code",
      "source": [
        "def calculate_area(length, width):\n",
        "  area = length * width\n",
        "  return area\n",
        "\n",
        "result = calculate_area(5,4)\n",
        "print(result)"
      ],
      "metadata": {
        "colab": {
          "base_uri": "https://localhost:8080/"
        },
        "id": "8pvWAkQN5KZc",
        "outputId": "ba0ffbdc-e045-42fe-8854-f4b8209a6b51"
      },
      "execution_count": 10,
      "outputs": [
        {
          "output_type": "stream",
          "name": "stdout",
          "text": [
            "20\n"
          ]
        }
      ]
    },
    {
      "cell_type": "markdown",
      "source": [
        "write a code with function together with loops to check number if it's old or even"
      ],
      "metadata": {
        "id": "u1ylsmyS50Ah"
      }
    },
    {
      "cell_type": "code",
      "source": [
        "def check_odd_even(n):\n",
        "    if n % 2 == 0:\n",
        "        return f\"{n} is Even\"\n",
        "    else:\n",
        "        return f\"{n} is Odd\"\n",
        "\n",
        "\n",
        "for num in range(1, 10):\n",
        "    result = check_odd_even(num)\n",
        "    print(result)\n"
      ],
      "metadata": {
        "colab": {
          "base_uri": "https://localhost:8080/"
        },
        "id": "Yk0p_FQu5-Lc",
        "outputId": "884fd6ea-7166-4e5b-dc63-884871b2ef67"
      },
      "execution_count": 11,
      "outputs": [
        {
          "output_type": "stream",
          "name": "stdout",
          "text": [
            "1 is Odd\n",
            "2 is Even\n",
            "3 is Odd\n",
            "4 is Even\n",
            "5 is Odd\n",
            "6 is Even\n",
            "7 is Odd\n",
            "8 is Even\n",
            "9 is Odd\n"
          ]
        }
      ]
    },
    {
      "cell_type": "code",
      "source": [],
      "metadata": {
        "id": "73ylNXbj6ZTO"
      },
      "execution_count": null,
      "outputs": []
    }
  ]
}